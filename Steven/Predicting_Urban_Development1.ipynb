{
 "cells": [
  {
   "cell_type": "markdown",
   "id": "abefc889",
   "metadata": {},
   "source": [
    "# Predicting Urban Development\n"
   ]
  },
  {
   "cell_type": "code",
   "execution_count": 2,
   "id": "56602a54",
   "metadata": {},
   "outputs": [],
   "source": [
    "import numpy as np\n",
    "from pathlib import Path\n",
    "from collections import Counter"
   ]
  },
  {
   "cell_type": "code",
   "execution_count": 3,
   "id": "99e2c0a4",
   "metadata": {},
   "outputs": [],
   "source": [
    "import numpy as np\n",
    "import pandas as pd\n",
    "from pathlib import Path\n",
    "from collections import Counter"
   ]
  },
  {
   "cell_type": "code",
   "execution_count": 49,
   "id": "c0e1b5ca",
   "metadata": {},
   "outputs": [
    {
     "data": {
      "text/html": [
       "<div>\n",
       "<style scoped>\n",
       "    .dataframe tbody tr th:only-of-type {\n",
       "        vertical-align: middle;\n",
       "    }\n",
       "\n",
       "    .dataframe tbody tr th {\n",
       "        vertical-align: top;\n",
       "    }\n",
       "\n",
       "    .dataframe thead th {\n",
       "        text-align: right;\n",
       "    }\n",
       "</style>\n",
       "<table border=\"1\" class=\"dataframe\">\n",
       "  <thead>\n",
       "    <tr style=\"text-align: right;\">\n",
       "      <th></th>\n",
       "      <th>Unnamed: 0</th>\n",
       "      <th>zpid</th>\n",
       "      <th>city</th>\n",
       "      <th>zipcode</th>\n",
       "      <th>homeType</th>\n",
       "      <th>yearBuilt</th>\n",
       "      <th>latestPrice</th>\n",
       "      <th>numPriceChanges</th>\n",
       "      <th>avgSchoolDistance</th>\n",
       "      <th>Candidate</th>\n",
       "      <th>avgSchoolRating</th>\n",
       "      <th>latest_saleyear</th>\n",
       "      <th>propertyTaxRate</th>\n",
       "    </tr>\n",
       "  </thead>\n",
       "  <tbody>\n",
       "    <tr>\n",
       "      <th>0</th>\n",
       "      <td>9.0</td>\n",
       "      <td>83827468.0</td>\n",
       "      <td>del valle</td>\n",
       "      <td>78617.0</td>\n",
       "      <td>Single Family</td>\n",
       "      <td>2013.0</td>\n",
       "      <td>194800.0</td>\n",
       "      <td>1.0</td>\n",
       "      <td>1.200000</td>\n",
       "      <td>0.0</td>\n",
       "      <td>3.000000</td>\n",
       "      <td>2018</td>\n",
       "      <td>1.98</td>\n",
       "    </tr>\n",
       "    <tr>\n",
       "      <th>1</th>\n",
       "      <td>11.0</td>\n",
       "      <td>241930967.0</td>\n",
       "      <td>del valle</td>\n",
       "      <td>78617.0</td>\n",
       "      <td>Single Family</td>\n",
       "      <td>2016.0</td>\n",
       "      <td>250000.0</td>\n",
       "      <td>1.0</td>\n",
       "      <td>1.200000</td>\n",
       "      <td>0.0</td>\n",
       "      <td>3.000000</td>\n",
       "      <td>2019</td>\n",
       "      <td>1.98</td>\n",
       "    </tr>\n",
       "    <tr>\n",
       "      <th>2</th>\n",
       "      <td>12.0</td>\n",
       "      <td>69808966.0</td>\n",
       "      <td>del valle</td>\n",
       "      <td>78617.0</td>\n",
       "      <td>Single Family</td>\n",
       "      <td>2005.0</td>\n",
       "      <td>239900.0</td>\n",
       "      <td>9.0</td>\n",
       "      <td>0.633333</td>\n",
       "      <td>0.0</td>\n",
       "      <td>3.333333</td>\n",
       "      <td>2020</td>\n",
       "      <td>1.98</td>\n",
       "    </tr>\n",
       "    <tr>\n",
       "      <th>3</th>\n",
       "      <td>13.0</td>\n",
       "      <td>64520966.0</td>\n",
       "      <td>del valle</td>\n",
       "      <td>78617.0</td>\n",
       "      <td>Single Family</td>\n",
       "      <td>2003.0</td>\n",
       "      <td>200000.0</td>\n",
       "      <td>1.0</td>\n",
       "      <td>1.833333</td>\n",
       "      <td>0.0</td>\n",
       "      <td>3.000000</td>\n",
       "      <td>2018</td>\n",
       "      <td>1.98</td>\n",
       "    </tr>\n",
       "    <tr>\n",
       "      <th>4</th>\n",
       "      <td>14.0</td>\n",
       "      <td>83813460.0</td>\n",
       "      <td>del valle</td>\n",
       "      <td>78617.0</td>\n",
       "      <td>Single Family</td>\n",
       "      <td>2010.0</td>\n",
       "      <td>131679.0</td>\n",
       "      <td>5.0</td>\n",
       "      <td>1.233333</td>\n",
       "      <td>0.0</td>\n",
       "      <td>3.000000</td>\n",
       "      <td>2020</td>\n",
       "      <td>1.98</td>\n",
       "    </tr>\n",
       "  </tbody>\n",
       "</table>\n",
       "</div>"
      ],
      "text/plain": [
       "   Unnamed: 0         zpid       city  zipcode       homeType  yearBuilt  \\\n",
       "0         9.0   83827468.0  del valle  78617.0  Single Family     2013.0   \n",
       "1        11.0  241930967.0  del valle  78617.0  Single Family     2016.0   \n",
       "2        12.0   69808966.0  del valle  78617.0  Single Family     2005.0   \n",
       "3        13.0   64520966.0  del valle  78617.0  Single Family     2003.0   \n",
       "4        14.0   83813460.0  del valle  78617.0  Single Family     2010.0   \n",
       "\n",
       "   latestPrice  numPriceChanges  avgSchoolDistance  Candidate  \\\n",
       "0     194800.0              1.0           1.200000        0.0   \n",
       "1     250000.0              1.0           1.200000        0.0   \n",
       "2     239900.0              9.0           0.633333        0.0   \n",
       "3     200000.0              1.0           1.833333        0.0   \n",
       "4     131679.0              5.0           1.233333        0.0   \n",
       "\n",
       "   avgSchoolRating  latest_saleyear  propertyTaxRate  \n",
       "0         3.000000             2018             1.98  \n",
       "1         3.000000             2019             1.98  \n",
       "2         3.333333             2020             1.98  \n",
       "3         3.000000             2018             1.98  \n",
       "4         3.000000             2020             1.98  "
      ]
     },
     "execution_count": 49,
     "metadata": {},
     "output_type": "execute_result"
    }
   ],
   "source": [
    "df = pd.read_csv(Path('Project_Folder/home_candidates_update.csv'))\n",
    "df.head()"
   ]
  },
  {
   "cell_type": "code",
   "execution_count": 50,
   "id": "5ee06445",
   "metadata": {},
   "outputs": [
    {
     "data": {
      "text/html": [
       "<div>\n",
       "<style scoped>\n",
       "    .dataframe tbody tr th:only-of-type {\n",
       "        vertical-align: middle;\n",
       "    }\n",
       "\n",
       "    .dataframe tbody tr th {\n",
       "        vertical-align: top;\n",
       "    }\n",
       "\n",
       "    .dataframe thead th {\n",
       "        text-align: right;\n",
       "    }\n",
       "</style>\n",
       "<table border=\"1\" class=\"dataframe\">\n",
       "  <thead>\n",
       "    <tr style=\"text-align: right;\">\n",
       "      <th></th>\n",
       "      <th>Unnamed: 0</th>\n",
       "      <th>zipcode</th>\n",
       "      <th>yearBuilt</th>\n",
       "      <th>latestPrice</th>\n",
       "      <th>numPriceChanges</th>\n",
       "      <th>avgSchoolDistance</th>\n",
       "      <th>Candidate</th>\n",
       "      <th>avgSchoolRating</th>\n",
       "      <th>latest_saleyear</th>\n",
       "      <th>propertyTaxRate</th>\n",
       "    </tr>\n",
       "  </thead>\n",
       "  <tbody>\n",
       "    <tr>\n",
       "      <th>0</th>\n",
       "      <td>9.0</td>\n",
       "      <td>78617.0</td>\n",
       "      <td>2013.0</td>\n",
       "      <td>194800.0</td>\n",
       "      <td>1.0</td>\n",
       "      <td>1.200000</td>\n",
       "      <td>0.0</td>\n",
       "      <td>3.000000</td>\n",
       "      <td>2018</td>\n",
       "      <td>1.98</td>\n",
       "    </tr>\n",
       "    <tr>\n",
       "      <th>1</th>\n",
       "      <td>11.0</td>\n",
       "      <td>78617.0</td>\n",
       "      <td>2016.0</td>\n",
       "      <td>250000.0</td>\n",
       "      <td>1.0</td>\n",
       "      <td>1.200000</td>\n",
       "      <td>0.0</td>\n",
       "      <td>3.000000</td>\n",
       "      <td>2019</td>\n",
       "      <td>1.98</td>\n",
       "    </tr>\n",
       "    <tr>\n",
       "      <th>2</th>\n",
       "      <td>12.0</td>\n",
       "      <td>78617.0</td>\n",
       "      <td>2005.0</td>\n",
       "      <td>239900.0</td>\n",
       "      <td>9.0</td>\n",
       "      <td>0.633333</td>\n",
       "      <td>0.0</td>\n",
       "      <td>3.333333</td>\n",
       "      <td>2020</td>\n",
       "      <td>1.98</td>\n",
       "    </tr>\n",
       "    <tr>\n",
       "      <th>3</th>\n",
       "      <td>13.0</td>\n",
       "      <td>78617.0</td>\n",
       "      <td>2003.0</td>\n",
       "      <td>200000.0</td>\n",
       "      <td>1.0</td>\n",
       "      <td>1.833333</td>\n",
       "      <td>0.0</td>\n",
       "      <td>3.000000</td>\n",
       "      <td>2018</td>\n",
       "      <td>1.98</td>\n",
       "    </tr>\n",
       "    <tr>\n",
       "      <th>4</th>\n",
       "      <td>14.0</td>\n",
       "      <td>78617.0</td>\n",
       "      <td>2010.0</td>\n",
       "      <td>131679.0</td>\n",
       "      <td>5.0</td>\n",
       "      <td>1.233333</td>\n",
       "      <td>0.0</td>\n",
       "      <td>3.000000</td>\n",
       "      <td>2020</td>\n",
       "      <td>1.98</td>\n",
       "    </tr>\n",
       "  </tbody>\n",
       "</table>\n",
       "</div>"
      ],
      "text/plain": [
       "   Unnamed: 0  zipcode  yearBuilt  latestPrice  numPriceChanges  \\\n",
       "0         9.0  78617.0     2013.0     194800.0              1.0   \n",
       "1        11.0  78617.0     2016.0     250000.0              1.0   \n",
       "2        12.0  78617.0     2005.0     239900.0              9.0   \n",
       "3        13.0  78617.0     2003.0     200000.0              1.0   \n",
       "4        14.0  78617.0     2010.0     131679.0              5.0   \n",
       "\n",
       "   avgSchoolDistance  Candidate  avgSchoolRating  latest_saleyear  \\\n",
       "0           1.200000        0.0         3.000000             2018   \n",
       "1           1.200000        0.0         3.000000             2019   \n",
       "2           0.633333        0.0         3.333333             2020   \n",
       "3           1.833333        0.0         3.000000             2018   \n",
       "4           1.233333        0.0         3.000000             2020   \n",
       "\n",
       "   propertyTaxRate  \n",
       "0             1.98  \n",
       "1             1.98  \n",
       "2             1.98  \n",
       "3             1.98  \n",
       "4             1.98  "
      ]
     },
     "execution_count": 50,
     "metadata": {},
     "output_type": "execute_result"
    }
   ],
   "source": [
    "# Drop unneeded columns\n",
    "df = df.drop(columns=['zpid','city', 'homeType']).dropna()\n",
    "df.head()"
   ]
  },
  {
   "cell_type": "code",
   "execution_count": 51,
   "id": "426b9703",
   "metadata": {},
   "outputs": [
    {
     "data": {
      "text/plain": [
       "Unnamed: 0           13325\n",
       "zipcode              13325\n",
       "yearBuilt            13325\n",
       "latestPrice          13325\n",
       "numPriceChanges      13325\n",
       "avgSchoolDistance    13325\n",
       "Candidate            13325\n",
       "avgSchoolRating      13325\n",
       "latest_saleyear      13325\n",
       "propertyTaxRate      13325\n",
       "dtype: int64"
      ]
     },
     "execution_count": 51,
     "metadata": {},
     "output_type": "execute_result"
    }
   ],
   "source": [
    "df.count()"
   ]
  },
  {
   "cell_type": "code",
   "execution_count": 52,
   "id": "b7062927",
   "metadata": {},
   "outputs": [
    {
     "data": {
      "text/html": [
       "<div>\n",
       "<style scoped>\n",
       "    .dataframe tbody tr th:only-of-type {\n",
       "        vertical-align: middle;\n",
       "    }\n",
       "\n",
       "    .dataframe tbody tr th {\n",
       "        vertical-align: top;\n",
       "    }\n",
       "\n",
       "    .dataframe thead th {\n",
       "        text-align: right;\n",
       "    }\n",
       "</style>\n",
       "<table border=\"1\" class=\"dataframe\">\n",
       "  <thead>\n",
       "    <tr style=\"text-align: right;\">\n",
       "      <th></th>\n",
       "      <th>Unnamed: 0</th>\n",
       "      <th>zipcode</th>\n",
       "      <th>yearBuilt</th>\n",
       "      <th>latestPrice</th>\n",
       "      <th>numPriceChanges</th>\n",
       "      <th>avgSchoolDistance</th>\n",
       "      <th>avgSchoolRating</th>\n",
       "      <th>latest_saleyear</th>\n",
       "      <th>propertyTaxRate</th>\n",
       "    </tr>\n",
       "  </thead>\n",
       "  <tbody>\n",
       "    <tr>\n",
       "      <th>0</th>\n",
       "      <td>9.0</td>\n",
       "      <td>78617.0</td>\n",
       "      <td>2013.0</td>\n",
       "      <td>194800.0</td>\n",
       "      <td>1.0</td>\n",
       "      <td>1.200000</td>\n",
       "      <td>3.000000</td>\n",
       "      <td>2018</td>\n",
       "      <td>1.98</td>\n",
       "    </tr>\n",
       "    <tr>\n",
       "      <th>1</th>\n",
       "      <td>11.0</td>\n",
       "      <td>78617.0</td>\n",
       "      <td>2016.0</td>\n",
       "      <td>250000.0</td>\n",
       "      <td>1.0</td>\n",
       "      <td>1.200000</td>\n",
       "      <td>3.000000</td>\n",
       "      <td>2019</td>\n",
       "      <td>1.98</td>\n",
       "    </tr>\n",
       "    <tr>\n",
       "      <th>2</th>\n",
       "      <td>12.0</td>\n",
       "      <td>78617.0</td>\n",
       "      <td>2005.0</td>\n",
       "      <td>239900.0</td>\n",
       "      <td>9.0</td>\n",
       "      <td>0.633333</td>\n",
       "      <td>3.333333</td>\n",
       "      <td>2020</td>\n",
       "      <td>1.98</td>\n",
       "    </tr>\n",
       "    <tr>\n",
       "      <th>3</th>\n",
       "      <td>13.0</td>\n",
       "      <td>78617.0</td>\n",
       "      <td>2003.0</td>\n",
       "      <td>200000.0</td>\n",
       "      <td>1.0</td>\n",
       "      <td>1.833333</td>\n",
       "      <td>3.000000</td>\n",
       "      <td>2018</td>\n",
       "      <td>1.98</td>\n",
       "    </tr>\n",
       "    <tr>\n",
       "      <th>4</th>\n",
       "      <td>14.0</td>\n",
       "      <td>78617.0</td>\n",
       "      <td>2010.0</td>\n",
       "      <td>131679.0</td>\n",
       "      <td>5.0</td>\n",
       "      <td>1.233333</td>\n",
       "      <td>3.000000</td>\n",
       "      <td>2020</td>\n",
       "      <td>1.98</td>\n",
       "    </tr>\n",
       "  </tbody>\n",
       "</table>\n",
       "</div>"
      ],
      "text/plain": [
       "   Unnamed: 0  zipcode  yearBuilt  latestPrice  numPriceChanges  \\\n",
       "0         9.0  78617.0     2013.0     194800.0              1.0   \n",
       "1        11.0  78617.0     2016.0     250000.0              1.0   \n",
       "2        12.0  78617.0     2005.0     239900.0              9.0   \n",
       "3        13.0  78617.0     2003.0     200000.0              1.0   \n",
       "4        14.0  78617.0     2010.0     131679.0              5.0   \n",
       "\n",
       "   avgSchoolDistance  avgSchoolRating  latest_saleyear  propertyTaxRate  \n",
       "0           1.200000         3.000000             2018             1.98  \n",
       "1           1.200000         3.000000             2019             1.98  \n",
       "2           0.633333         3.333333             2020             1.98  \n",
       "3           1.833333         3.000000             2018             1.98  \n",
       "4           1.233333         3.000000             2020             1.98  "
      ]
     },
     "execution_count": 52,
     "metadata": {},
     "output_type": "execute_result"
    }
   ],
   "source": [
    "X = pd.get_dummies(df.drop(columns='Candidate'))\n",
    "y = df.Candidate\n",
    "X.head()"
   ]
  },
  {
   "cell_type": "code",
   "execution_count": 53,
   "id": "86dc1f6d",
   "metadata": {},
   "outputs": [
    {
     "data": {
      "text/html": [
       "<div>\n",
       "<style scoped>\n",
       "    .dataframe tbody tr th:only-of-type {\n",
       "        vertical-align: middle;\n",
       "    }\n",
       "\n",
       "    .dataframe tbody tr th {\n",
       "        vertical-align: top;\n",
       "    }\n",
       "\n",
       "    .dataframe thead th {\n",
       "        text-align: right;\n",
       "    }\n",
       "</style>\n",
       "<table border=\"1\" class=\"dataframe\">\n",
       "  <thead>\n",
       "    <tr style=\"text-align: right;\">\n",
       "      <th></th>\n",
       "      <th>Unnamed: 0</th>\n",
       "      <th>zipcode</th>\n",
       "      <th>yearBuilt</th>\n",
       "      <th>latestPrice</th>\n",
       "      <th>numPriceChanges</th>\n",
       "      <th>avgSchoolDistance</th>\n",
       "      <th>avgSchoolRating</th>\n",
       "      <th>latest_saleyear</th>\n",
       "      <th>propertyTaxRate</th>\n",
       "    </tr>\n",
       "  </thead>\n",
       "  <tbody>\n",
       "    <tr>\n",
       "      <th>count</th>\n",
       "      <td>13325.000000</td>\n",
       "      <td>13325.000000</td>\n",
       "      <td>13325.000000</td>\n",
       "      <td>1.332500e+04</td>\n",
       "      <td>13325.000000</td>\n",
       "      <td>13325.000000</td>\n",
       "      <td>13325.000000</td>\n",
       "      <td>13325.000000</td>\n",
       "      <td>13325.000000</td>\n",
       "    </tr>\n",
       "    <tr>\n",
       "      <th>mean</th>\n",
       "      <td>8099.897261</td>\n",
       "      <td>78736.484728</td>\n",
       "      <td>1986.617186</td>\n",
       "      <td>5.002595e+05</td>\n",
       "      <td>3.002402</td>\n",
       "      <td>1.682905</td>\n",
       "      <td>5.751427</td>\n",
       "      <td>2019.082402</td>\n",
       "      <td>1.995893</td>\n",
       "    </tr>\n",
       "    <tr>\n",
       "      <th>std</th>\n",
       "      <td>4291.263341</td>\n",
       "      <td>19.755482</td>\n",
       "      <td>21.918177</td>\n",
       "      <td>4.125783e+05</td>\n",
       "      <td>2.464944</td>\n",
       "      <td>0.917098</td>\n",
       "      <td>1.895880</td>\n",
       "      <td>0.813589</td>\n",
       "      <td>0.056141</td>\n",
       "    </tr>\n",
       "    <tr>\n",
       "      <th>min</th>\n",
       "      <td>0.000000</td>\n",
       "      <td>78617.000000</td>\n",
       "      <td>1905.000000</td>\n",
       "      <td>5.800000e+03</td>\n",
       "      <td>1.000000</td>\n",
       "      <td>0.266667</td>\n",
       "      <td>2.333333</td>\n",
       "      <td>2018.000000</td>\n",
       "      <td>1.980000</td>\n",
       "    </tr>\n",
       "    <tr>\n",
       "      <th>25%</th>\n",
       "      <td>4344.000000</td>\n",
       "      <td>78726.000000</td>\n",
       "      <td>1972.000000</td>\n",
       "      <td>3.000000e+05</td>\n",
       "      <td>1.000000</td>\n",
       "      <td>1.066667</td>\n",
       "      <td>4.000000</td>\n",
       "      <td>2018.000000</td>\n",
       "      <td>1.980000</td>\n",
       "    </tr>\n",
       "    <tr>\n",
       "      <th>50%</th>\n",
       "      <td>8263.000000</td>\n",
       "      <td>78744.000000</td>\n",
       "      <td>1988.000000</td>\n",
       "      <td>3.990000e+05</td>\n",
       "      <td>2.000000</td>\n",
       "      <td>1.433333</td>\n",
       "      <td>5.666667</td>\n",
       "      <td>2019.000000</td>\n",
       "      <td>1.980000</td>\n",
       "    </tr>\n",
       "    <tr>\n",
       "      <th>75%</th>\n",
       "      <td>11802.000000</td>\n",
       "      <td>78749.000000</td>\n",
       "      <td>2005.000000</td>\n",
       "      <td>5.520000e+05</td>\n",
       "      <td>4.000000</td>\n",
       "      <td>2.066667</td>\n",
       "      <td>7.000000</td>\n",
       "      <td>2020.000000</td>\n",
       "      <td>1.980000</td>\n",
       "    </tr>\n",
       "    <tr>\n",
       "      <th>max</th>\n",
       "      <td>15170.000000</td>\n",
       "      <td>78759.000000</td>\n",
       "      <td>2020.000000</td>\n",
       "      <td>1.300000e+07</td>\n",
       "      <td>23.000000</td>\n",
       "      <td>7.200000</td>\n",
       "      <td>9.500000</td>\n",
       "      <td>2021.000000</td>\n",
       "      <td>2.210000</td>\n",
       "    </tr>\n",
       "  </tbody>\n",
       "</table>\n",
       "</div>"
      ],
      "text/plain": [
       "         Unnamed: 0       zipcode     yearBuilt   latestPrice  \\\n",
       "count  13325.000000  13325.000000  13325.000000  1.332500e+04   \n",
       "mean    8099.897261  78736.484728   1986.617186  5.002595e+05   \n",
       "std     4291.263341     19.755482     21.918177  4.125783e+05   \n",
       "min        0.000000  78617.000000   1905.000000  5.800000e+03   \n",
       "25%     4344.000000  78726.000000   1972.000000  3.000000e+05   \n",
       "50%     8263.000000  78744.000000   1988.000000  3.990000e+05   \n",
       "75%    11802.000000  78749.000000   2005.000000  5.520000e+05   \n",
       "max    15170.000000  78759.000000   2020.000000  1.300000e+07   \n",
       "\n",
       "       numPriceChanges  avgSchoolDistance  avgSchoolRating  latest_saleyear  \\\n",
       "count     13325.000000       13325.000000     13325.000000     13325.000000   \n",
       "mean          3.002402           1.682905         5.751427      2019.082402   \n",
       "std           2.464944           0.917098         1.895880         0.813589   \n",
       "min           1.000000           0.266667         2.333333      2018.000000   \n",
       "25%           1.000000           1.066667         4.000000      2018.000000   \n",
       "50%           2.000000           1.433333         5.666667      2019.000000   \n",
       "75%           4.000000           2.066667         7.000000      2020.000000   \n",
       "max          23.000000           7.200000         9.500000      2021.000000   \n",
       "\n",
       "       propertyTaxRate  \n",
       "count     13325.000000  \n",
       "mean          1.995893  \n",
       "std           0.056141  \n",
       "min           1.980000  \n",
       "25%           1.980000  \n",
       "50%           1.980000  \n",
       "75%           1.980000  \n",
       "max           2.210000  "
      ]
     },
     "execution_count": 53,
     "metadata": {},
     "output_type": "execute_result"
    }
   ],
   "source": [
    "X.describe()"
   ]
  },
  {
   "cell_type": "code",
   "execution_count": 54,
   "id": "2c02f656",
   "metadata": {},
   "outputs": [
    {
     "data": {
      "text/plain": [
       "1.0    7241\n",
       "0.0    6084\n",
       "Name: Candidate, dtype: int64"
      ]
     },
     "execution_count": 54,
     "metadata": {},
     "output_type": "execute_result"
    }
   ],
   "source": [
    "# Check the balance of our target values\n",
    "y.value_counts()"
   ]
  },
  {
   "cell_type": "code",
   "execution_count": 55,
   "id": "a1aba205",
   "metadata": {},
   "outputs": [],
   "source": [
    "from sklearn.model_selection import train_test_split\n",
    "X_train, X_test, y_train, y_test = train_test_split(X, y, random_state=1, stratify=y)"
   ]
  },
  {
   "cell_type": "code",
   "execution_count": 56,
   "id": "bb33fe3e",
   "metadata": {},
   "outputs": [
    {
     "data": {
      "text/plain": [
       "Counter({0.0: 5430, 1.0: 5430})"
      ]
     },
     "execution_count": 56,
     "metadata": {},
     "output_type": "execute_result"
    }
   ],
   "source": [
    "# Resample the training data with the RandomOversampler\n",
    "from imblearn.over_sampling import RandomOverSampler\n",
    "# Instantiate the model\n",
    "ros = RandomOverSampler(random_state=1)\n",
    "# Resample the targets\n",
    "X_resampled, y_resampled = ros.fit_resample(X_train, y_train)\n",
    "Counter(y_resampled)"
   ]
  },
  {
   "cell_type": "code",
   "execution_count": 57,
   "id": "a0366428",
   "metadata": {},
   "outputs": [
    {
     "name": "stderr",
     "output_type": "stream",
     "text": [
      "C:\\Users\\steve\\anaconda3\\envs\\mlenv\\lib\\site-packages\\sklearn\\linear_model\\_sag.py:329: ConvergenceWarning: The max_iter was reached which means the coef_ did not converge\n",
      "  \"the coef_ did not converge\", ConvergenceWarning)\n"
     ]
    },
    {
     "data": {
      "text/plain": [
       "LogisticRegression(random_state=1, solver='saga')"
      ]
     },
     "execution_count": 57,
     "metadata": {},
     "output_type": "execute_result"
    }
   ],
   "source": [
    "# Train the Logistic Regression model using the resampled data\n",
    "from sklearn.linear_model import LogisticRegression\n",
    "model = LogisticRegression(solver='saga', random_state=1)\n",
    "model.fit(X_resampled, y_resampled)"
   ]
  },
  {
   "cell_type": "code",
   "execution_count": 59,
   "id": "bc9c0ceb",
   "metadata": {},
   "outputs": [],
   "source": [
    "y_pred = model.predict(X_test)"
   ]
  },
  {
   "cell_type": "code",
   "execution_count": 60,
   "id": "143b2190",
   "metadata": {},
   "outputs": [
    {
     "data": {
      "text/plain": [
       "array([[ 714,  807],\n",
       "       [ 737, 1074]], dtype=int64)"
      ]
     },
     "execution_count": 60,
     "metadata": {},
     "output_type": "execute_result"
    }
   ],
   "source": [
    "\n",
    "# Display the confusion matrix\n",
    "from sklearn.metrics import confusion_matrix\n",
    "confusion_matrix(y_test, y_pred)"
   ]
  },
  {
   "cell_type": "code",
   "execution_count": 61,
   "id": "1f0c2640",
   "metadata": {},
   "outputs": [
    {
     "name": "stdout",
     "output_type": "stream",
     "text": [
      "                   pre       rec       spe        f1       geo       iba       sup\n",
      "\n",
      "        0.0       0.49      0.47      0.59      0.48      0.53      0.27      1521\n",
      "        1.0       0.57      0.59      0.47      0.58      0.53      0.28      1811\n",
      "\n",
      "avg / total       0.53      0.54      0.53      0.54      0.53      0.28      3332\n",
      "\n"
     ]
    }
   ],
   "source": [
    "# Print the imbalanced classification report\n",
    "from imblearn.metrics import classification_report_imbalanced\n",
    "print(classification_report_imbalanced(y_test, y_pred))"
   ]
  },
  {
   "cell_type": "markdown",
   "id": "260a0fab",
   "metadata": {},
   "source": [
    "## Making Predictions"
   ]
  },
  {
   "cell_type": "code",
   "execution_count": 64,
   "id": "4c36488a",
   "metadata": {},
   "outputs": [
    {
     "data": {
      "text/plain": [
       "0.5366146458583433"
      ]
     },
     "execution_count": 64,
     "metadata": {},
     "output_type": "execute_result"
    }
   ],
   "source": [
    "# Calculate predictions\n",
    "model.score(X_test, y_test)"
   ]
  },
  {
   "cell_type": "code",
   "execution_count": 65,
   "id": "d418dd9e",
   "metadata": {},
   "outputs": [
    {
     "data": {
      "text/plain": [
       "0.5312352629177163"
      ]
     },
     "execution_count": 65,
     "metadata": {},
     "output_type": "execute_result"
    }
   ],
   "source": [
    "# Calculated the balanced accuracy score\n",
    "from sklearn.metrics import balanced_accuracy_score\n",
    "balanced_accuracy_score(y_test, y_pred)"
   ]
  },
  {
   "cell_type": "code",
   "execution_count": null,
   "id": "ea6202e3",
   "metadata": {},
   "outputs": [],
   "source": []
  },
  {
   "cell_type": "code",
   "execution_count": null,
   "id": "7429d990",
   "metadata": {},
   "outputs": [],
   "source": []
  }
 ],
 "metadata": {
  "kernelspec": {
   "display_name": "Python 3",
   "language": "python",
   "name": "python3"
  },
  "language_info": {
   "codemirror_mode": {
    "name": "ipython",
    "version": 3
   },
   "file_extension": ".py",
   "mimetype": "text/x-python",
   "name": "python",
   "nbconvert_exporter": "python",
   "pygments_lexer": "ipython3",
   "version": "3.7.10"
  }
 },
 "nbformat": 4,
 "nbformat_minor": 5
}
