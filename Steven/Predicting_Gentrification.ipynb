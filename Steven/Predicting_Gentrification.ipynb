{
 "cells": [
  {
   "cell_type": "markdown",
   "id": "8a2e25c5",
   "metadata": {},
   "source": [
    "# Predicting Gentrification"
   ]
  },
  {
   "cell_type": "code",
   "execution_count": null,
   "id": "2994a8bd",
   "metadata": {},
   "outputs": [],
   "source": [
    "from path import Path\n",
    "import pandas as pd"
   ]
  },
  {
   "cell_type": "code",
   "execution_count": null,
   "id": "c81fc193",
   "metadata": {},
   "outputs": [],
   "source": [
    "# data = Path()\n",
    "#df = pd.read_csv(data)\n",
    "#df.head()"
   ]
  },
  {
   "cell_type": "markdown",
   "id": "ab8174e8",
   "metadata": {},
   "source": [
    "## Separate the Features (x) from the Targets (y)"
   ]
  },
  {
   "cell_type": "code",
   "execution_count": null,
   "id": "8c66b675",
   "metadata": {},
   "outputs": [],
   "source": [
    "# y= df[]\n",
    "# x= "
   ]
  },
  {
   "cell_type": "markdown",
   "id": "f55a3ac4",
   "metadata": {},
   "source": [
    "## Split our data into training and testing"
   ]
  },
  {
   "cell_type": "code",
   "execution_count": null,
   "id": "09a0c85e",
   "metadata": {},
   "outputs": [],
   "source": [
    "from sklearn.model_selection import train_test_split\n",
    "\n",
    "# X_train, X_test, y_train, y_test = train_test_split(X, \n",
    "                                                    y, \n",
    "                                                    random_state=1, \n",
    "                                                    stratify=y)\n",
    "# X_train.shape"
   ]
  },
  {
   "cell_type": "markdown",
   "id": "e7240e85",
   "metadata": {},
   "source": [
    "## Create a Logistic Regression Model"
   ]
  },
  {
   "cell_type": "code",
   "execution_count": null,
   "id": "6b5a0941",
   "metadata": {},
   "outputs": [],
   "source": [
    "# from sklearn.linear_model import LogisticRegression\n",
    "classifier = LogisticRegression(solver='lbfgs',\n",
    "                                max_iter=200,\n",
    "                                random_state=1)"
   ]
  },
  {
   "cell_type": "markdown",
   "id": "d7b7322a",
   "metadata": {},
   "source": [
    "## Fit (train) or model using the training data"
   ]
  },
  {
   "cell_type": "code",
   "execution_count": null,
   "id": "82cd00e3",
   "metadata": {},
   "outputs": [],
   "source": [
    "# "
   ]
  }
 ],
 "metadata": {
  "kernelspec": {
   "display_name": "PythonData",
   "language": "python",
   "name": "pythondata"
  },
  "language_info": {
   "codemirror_mode": {
    "name": "ipython",
    "version": 3
   },
   "file_extension": ".py",
   "mimetype": "text/x-python",
   "name": "python",
   "nbconvert_exporter": "python",
   "pygments_lexer": "ipython3",
   "version": "3.8.5"
  }
 },
 "nbformat": 4,
 "nbformat_minor": 5
}
