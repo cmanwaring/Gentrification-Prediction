{
 "cells": [
  {
   "cell_type": "markdown",
   "id": "364131c4",
   "metadata": {},
   "source": [
    "# Predicting Gentrification"
   ]
  },
  {
   "cell_type": "code",
   "execution_count": null,
   "id": "5ece1bee",
   "metadata": {},
   "outputs": [],
   "source": [
    "from path import Path\n",
    "import pandas as pd"
   ]
  },
  {
   "cell_type": "code",
   "execution_count": null,
   "id": "c47ed897",
   "metadata": {},
   "outputs": [],
   "source": [
    "# data = Path()\n",
    "#df = pd.read_csv(data)\n",
    "#df.head()"
   ]
  },
  {
   "cell_type": "markdown",
   "id": "86b8b730",
   "metadata": {},
   "source": [
    "## Separate the Features (x) from the Targets (y)"
   ]
  },
  {
   "cell_type": "code",
   "execution_count": null,
   "id": "c43cd939",
   "metadata": {},
   "outputs": [],
   "source": [
    "# y= df[]\n",
    "# x= "
   ]
  },
  {
   "cell_type": "markdown",
   "id": "e759b56b",
   "metadata": {},
   "source": [
    "## Split our data into training and testing"
   ]
  },
  {
   "cell_type": "code",
   "execution_count": null,
   "id": "3ecc389d",
   "metadata": {},
   "outputs": [],
   "source": [
    "from sklearn.model_selection import train_test_split\n",
    "\n",
    "# X_train, X_test, y_train, y_test = train_test_split(X, \n",
    "                                                    y, \n",
    "                                                    random_state=1, \n",
    "                                                    stratify=y)\n",
    "# X_train.shape"
   ]
  },
  {
   "cell_type": "markdown",
   "id": "08e850fa",
   "metadata": {},
   "source": [
    "## Create a Logistic Regression Model"
   ]
  },
  {
   "cell_type": "code",
   "execution_count": null,
   "id": "4940b48c",
   "metadata": {},
   "outputs": [],
   "source": [
    "# from sklearn.linear_model import LogisticRegression\n",
    "classifier = LogisticRegression(solver='lbfgs',\n",
    "                                max_iter=200,\n",
    "                                random_state=1)"
   ]
  },
  {
   "cell_type": "markdown",
   "id": "28c09f30",
   "metadata": {},
   "source": [
    "## Fit (train) or model using the training data"
   ]
  },
  {
   "cell_type": "code",
   "execution_count": null,
   "id": "1a5e8190",
   "metadata": {},
   "outputs": [],
   "source": [
    "# classifier.fit(X_train, y_train)"
   ]
  },
  {
   "cell_type": "markdown",
   "id": "2bae22a2",
   "metadata": {},
   "source": [
    "## Making Predictions"
   ]
  },
  {
   "cell_type": "code",
   "execution_count": null,
   "id": "3c27081a",
   "metadata": {},
   "outputs": [],
   "source": [
    "#y_pred = classifier.predict(X_test)\n",
    "#results = pd.DataFrame({\"Prediction\": y_pred, \"Actual\": y_test}).reset_index(drop=True)\n",
    "#results.head(20)"
   ]
  }
 ],
 "metadata": {
  "kernelspec": {
   "display_name": "PythonData",
   "language": "python",
   "name": "pythondata"
  },
  "language_info": {
   "codemirror_mode": {
    "name": "ipython",
    "version": 3
   },
   "file_extension": ".py",
   "mimetype": "text/x-python",
   "name": "python",
   "nbconvert_exporter": "python",
   "pygments_lexer": "ipython3",
   "version": "3.8.5"
  }
 },
 "nbformat": 4,
 "nbformat_minor": 5
}
