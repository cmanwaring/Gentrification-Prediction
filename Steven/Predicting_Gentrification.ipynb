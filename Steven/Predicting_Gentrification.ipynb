{
 "cells": [
  {
   "cell_type": "markdown",
   "id": "8649353d",
   "metadata": {},
   "source": [
    "# Predicting Gentrification"
   ]
  },
  {
   "cell_type": "code",
   "execution_count": null,
   "id": "458d0ec1",
   "metadata": {},
   "outputs": [],
   "source": [
    "from path import Path\n",
    "import pandas as pd"
   ]
  },
  {
   "cell_type": "code",
   "execution_count": null,
   "id": "8d1d5fb6",
   "metadata": {},
   "outputs": [],
   "source": [
    "# data = Path()\n",
    "#df = pd.read_csv(data)\n",
    "#df.head()"
   ]
  },
  {
   "cell_type": "markdown",
   "id": "7ea78049",
   "metadata": {},
   "source": [
    "## Separate the Features (x) from the Targets (y)"
   ]
  },
  {
   "cell_type": "code",
   "execution_count": null,
   "id": "23a984e9",
   "metadata": {},
   "outputs": [],
   "source": [
    "# y= df[]\n",
    "# x= "
   ]
  },
  {
   "cell_type": "markdown",
   "id": "0129dac5",
   "metadata": {},
   "source": [
    "## Split our data into training and testing"
   ]
  },
  {
   "cell_type": "code",
   "execution_count": null,
   "id": "fc270c33",
   "metadata": {},
   "outputs": [],
   "source": [
    "from sklearn.model_selection import train_test_split\n",
    "\n",
    "# X_train, X_test, y_train, y_test = train_test_split(X, \n",
    "                                                    y, \n",
    "                                                    random_state=1, \n",
    "                                                    stratify=y)\n",
    "# X_train.shape"
   ]
  },
  {
   "cell_type": "markdown",
   "id": "c02af6ba",
   "metadata": {},
   "source": [
    "## Create a Logistic Regression Model"
   ]
  },
  {
   "cell_type": "code",
   "execution_count": null,
   "id": "d7431bdd",
   "metadata": {},
   "outputs": [],
   "source": [
    "# from sklearn.linear_model import LogisticRegression\n",
    "classifier = LogisticRegression(solver='lbfgs',\n",
    "                                max_iter=200,\n",
    "                                random_state=1)"
   ]
  },
  {
   "cell_type": "markdown",
   "id": "3f85bfb9",
   "metadata": {},
   "source": [
    "## Fit (train) or model using the training data"
   ]
  },
  {
   "cell_type": "code",
   "execution_count": null,
   "id": "6d8ba393",
   "metadata": {},
   "outputs": [],
   "source": [
    "# classifier.fit(X_train, y_train)"
   ]
  },
  {
   "cell_type": "markdown",
   "id": "19a22096",
   "metadata": {},
   "source": [
    "## Making Predictions"
   ]
  },
  {
   "cell_type": "code",
   "execution_count": null,
   "id": "5540cdfd",
   "metadata": {},
   "outputs": [],
   "source": [
    "#y_pred = classifier.predict(X_test)\n",
    "#results = pd.DataFrame({\"Prediction\": y_pred, \"Actual\": y_test}).reset_index(drop=True)\n",
    "#results.head(20)"
   ]
  },
  {
   "cell_type": "code",
   "execution_count": null,
   "id": "3e2dd106",
   "metadata": {},
   "outputs": [],
   "source": [
    "#y_pred = classifier.predict(X_test)\n",
    "#results = pd.DataFrame({\"Prediction\": y_pred, \"Actual\": y_test}).reset_index(drop=True)\n",
    "#results.head(20)"
   ]
  }
 ],
 "metadata": {
  "kernelspec": {
   "display_name": "PythonData",
   "language": "python",
   "name": "pythondata"
  },
  "language_info": {
   "codemirror_mode": {
    "name": "ipython",
    "version": 3
   },
   "file_extension": ".py",
   "mimetype": "text/x-python",
   "name": "python",
   "nbconvert_exporter": "python",
   "pygments_lexer": "ipython3",
   "version": "3.8.5"
  }
 },
 "nbformat": 4,
 "nbformat_minor": 5
}
